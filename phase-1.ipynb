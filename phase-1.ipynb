{
 "cells": [
  {
   "cell_type": "markdown",
   "metadata": {},
   "source": [
    "## Numpy Array and Basics\n",
    "### learn about numpy with chai aur code"
   ]
  },
  {
   "cell_type": "code",
   "execution_count": 2,
   "metadata": {},
   "outputs": [],
   "source": [
    "import numpy as np "
   ]
  },
  {
   "cell_type": "markdown",
   "metadata": {},
   "source": [
    "### creating array from list"
   ]
  },
  {
   "cell_type": "code",
   "execution_count": 9,
   "metadata": {},
   "outputs": [
    {
     "name": "stdout",
     "output_type": "stream",
     "text": [
      "[1 2 3 4]\n",
      "[[1 2 3]\n",
      " [4 5 6]]\n"
     ]
    }
   ],
   "source": [
    "arr_1d=np.array([1,2,3,4,])\n",
    "print(arr_1d)\n",
    "\n",
    "arr_2d=np.array([[1,2,3,],[4,5,6]])\n",
    "print(arr_2d)"
   ]
  },
  {
   "cell_type": "markdown",
   "metadata": {},
   "source": [
    "### List vs numpy array\n"
   ]
  },
  {
   "cell_type": "code",
   "execution_count": 8,
   "metadata": {},
   "outputs": [
    {
     "name": "stdout",
     "output_type": "stream",
     "text": [
      "Python list multiplication  [1, 2, 3, 1, 2, 3]\n",
      "Python array multiplication  [2 4 6]\n",
      "\n",
      " List operation time:  0.1560077667236328\n",
      "\n",
      " Numpy operation time:  0.01037907600402832\n"
     ]
    }
   ],
   "source": [
    "import time\n",
    "py_list = [1, 2, 3]\n",
    "print(\"Python list multiplication \", py_list * 2)\n",
    "\n",
    "\n",
    "np_array = np.array([1, 2, 3])  # element wise multiplication\n",
    "print(\"Python array multiplication \", np_array * 2)\n",
    "\n",
    "start = time.time()\n",
    "py_list = [i*2 for i in range(1000000)]\n",
    "print(\"\\n List operation time: \", time.time() - start)\n",
    "\n",
    "start = time.time()\n",
    "np_array = np.arange(1000000) * 2\n",
    "print(\"\\n Numpy operation time: \", time.time() - start)"
   ]
  },
  {
   "cell_type": "markdown",
   "metadata": {},
   "source": [
    "### creating array from scratch"
   ]
  },
  {
   "cell_type": "code",
   "execution_count": 9,
   "metadata": {},
   "outputs": [
    {
     "name": "stdout",
     "output_type": "stream",
     "text": [
      "zeros array :\n",
      " [[0. 0. 0.]\n",
      " [0. 0. 0.]]\n",
      "ones array :\n",
      " [[1. 1. 1.]\n",
      " [1. 1. 1.]]\n",
      "full array :\n",
      " [[2 2 2]\n",
      " [2 2 2]]\n",
      "random array :\n",
      " [[0.79617936 0.99775092 0.49475709]\n",
      " [0.6820518  0.01560987 0.60620071]]\n",
      "sequence array :\n",
      " [1 4 7]\n"
     ]
    }
   ],
   "source": [
    "zeros= np.zeros((2,3))\n",
    "print(\"zeros array :\\n\", zeros)\n",
    "\n",
    "ones=np.ones((2,3))\n",
    "print(\"ones array :\\n\", ones)\n",
    "\n",
    "full =np.full((2,3), (2,))\n",
    "print(\"full array :\\n\", full)\n",
    "\n",
    "random=np.random.random((2,3))\n",
    "print(\"random array :\\n\", random)\n",
    "\n",
    "sequence=np.arange(1,10,3)\n",
    "print(\"sequence array :\\n\", sequence)\n",
    "\n",
    "\n"
   ]
  },
  {
   "cell_type": "markdown",
   "metadata": {},
   "source": [
    "### Vector ,Matrix & Tensor"
   ]
  },
  {
   "cell_type": "code",
   "execution_count": 10,
   "metadata": {},
   "outputs": [
    {
     "name": "stdout",
     "output_type": "stream",
     "text": [
      "Vector: [1 2 3]\n",
      "Matrix: [[1 2 3]\n",
      " [4 5 6]]\n",
      "Tensor: [[[1 2 3]\n",
      "  [4 5 6]]\n",
      "\n",
      " [[7 8 9]\n",
      "  [0 0 0]]]\n"
     ]
    }
   ],
   "source": [
    "vector=np.array([1,2,3])\n",
    "print(\"Vector:\", vector)\n",
    "\n",
    "matrix=np.array([[1,2,3],\n",
    "                 [4,5,6]])\n",
    "print(\"Matrix:\", matrix)\n",
    "\n",
    "tensor=np.array([[[1,2,3],[4,5,6]],\n",
    "                 [[7,8,9],[0,0,0]]])\n",
    "print(\"Tensor:\", tensor)"
   ]
  },
  {
   "cell_type": "markdown",
   "metadata": {},
   "source": [
    "### Array Properties"
   ]
  },
  {
   "cell_type": "code",
   "execution_count": 12,
   "metadata": {},
   "outputs": [
    {
     "name": "stdout",
     "output_type": "stream",
     "text": [
      "(2, 3)\n",
      "6\n",
      "2\n",
      "int64\n"
     ]
    }
   ],
   "source": [
    "arr=np.array([[1,2,3],\n",
    "              [4,5,6]])\n",
    "print(arr.shape)\n",
    "print(arr.size)\n",
    "print(arr.ndim)\n",
    "print(arr.dtype)"
   ]
  },
  {
   "cell_type": "markdown",
   "metadata": {},
   "source": [
    "### Array reshaping\n"
   ]
  },
  {
   "cell_type": "code",
   "execution_count": 21,
   "metadata": {},
   "outputs": [
    {
     "name": "stdout",
     "output_type": "stream",
     "text": [
      "Original: [ 0  1  2  3  4  5  6  7  8  9 10 11]\n",
      "Reshaped:\n",
      " [[ 0  1  2  3]\n",
      " [ 4  5  6  7]\n",
      " [ 8  9 10 11]]\n",
      "Flattened:\n",
      " [ 0  1  2  3  4  5  6  7  8  9 10 11]\n",
      "Raveled : [ 0  1  2  3  4  5  6  7  8  9 10 11]\n",
      "Transpose:\n",
      " [[ 0  4  8]\n",
      " [ 1  5  9]\n",
      " [ 2  6 10]\n",
      " [ 3  7 11]]\n"
     ]
    }
   ],
   "source": [
    "arr=np.arange(12)\n",
    "print(\"Original:\",arr)\n",
    "\n",
    "reshaped=arr.reshape((3,4))\n",
    "print(\"Reshaped:\\n\",reshaped)\n",
    "\n",
    "flattened=reshaped.flatten()\n",
    "print(\"Flattened:\\n\",flattened)\n",
    "\n",
    "#Returns view instead of copy \n",
    "raveled=reshaped.ravel()\n",
    "print(\"Raveled :\",raveled)\n",
    "\n",
    "#!Transpose\n",
    "transposed=reshaped.T\n",
    "print(\"Transpose:\\n\",transposed)\n"
   ]
  }
 ],
 "metadata": {
  "kernelspec": {
   "display_name": ".venv",
   "language": "python",
   "name": "python3"
  },
  "language_info": {
   "codemirror_mode": {
    "name": "ipython",
    "version": 3
   },
   "file_extension": ".py",
   "mimetype": "text/x-python",
   "name": "python",
   "nbconvert_exporter": "python",
   "pygments_lexer": "ipython3",
   "version": "3.13.2"
  }
 },
 "nbformat": 4,
 "nbformat_minor": 2
}
