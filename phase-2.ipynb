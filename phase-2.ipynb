{
 "cells": [
  {
   "cell_type": "markdown",
   "metadata": {},
   "source": [
    "## Numpy Array Operation"
   ]
  },
  {
   "cell_type": "code",
   "execution_count": 1,
   "metadata": {},
   "outputs": [],
   "source": [
    "import numpy as np"
   ]
  },
  {
   "cell_type": "code",
   "execution_count": 6,
   "metadata": {},
   "outputs": [
    {
     "name": "stdout",
     "output_type": "stream",
     "text": [
      "Basic slicing: [4 5 6 7 8 9]\n",
      "With step: [4 6 8]\n",
      "Negative Indexing: 7\n"
     ]
    }
   ],
   "source": [
    "arr=np.array([1,2,3,4,5,6,7,8,9,10,])\n",
    "print(\"Basic slicing:\",arr[3:9])\n",
    "print(\"With step:\",arr[3:9:2])\n",
    "print(\"Negative Indexing:\",arr[-4])"
   ]
  },
  {
   "cell_type": "code",
   "execution_count": 14,
   "metadata": {},
   "outputs": [
    {
     "name": "stdout",
     "output_type": "stream",
     "text": [
      "specific element: 9\n",
      "Entire row: [7 8 9]\n",
      "Entire column: [3 6 9]\n"
     ]
    }
   ],
   "source": [
    "arr_2d=np.array([[1,2,3],\n",
    "                 [4,5,6],\n",
    "                 [7,8,9]])\n",
    "print(\"specific element:\",arr_2d[2, 2])\n",
    "print(\"Entire row:\",arr_2d[2])\n",
    "print(\"Entire column:\",arr_2d[:,2])"
   ]
  },
  {
   "cell_type": "markdown",
   "metadata": {},
   "source": [
    "### Sorting"
   ]
  },
  {
   "cell_type": "code",
   "execution_count": 19,
   "metadata": {},
   "outputs": [
    {
     "name": "stdout",
     "output_type": "stream",
     "text": [
      "Sorted array: [1 2 3 3 6 7 8 9]\n",
      "Sorted 2d array:\n",
      " [[3 6]\n",
      " [4 8]\n",
      " [5 9]]\n"
     ]
    }
   ],
   "source": [
    "unsorted=np.array([6,2,3,1,7,3,8,9])\n",
    "print(\"Sorted array:\",np.sort(unsorted))\n",
    "\n",
    "arr_2d_unsorted=np.array([[6,3],[8,4],[5,9]])\n",
    "print(\"Sorted 2d array:\\n\",np.sort(arr_2d_unsorted, axis=1))"
   ]
  },
  {
   "cell_type": "markdown",
   "metadata": {},
   "source": [
    "### Filter"
   ]
  },
  {
   "cell_type": "code",
   "execution_count": 21,
   "metadata": {},
   "outputs": [
    {
     "name": "stdout",
     "output_type": "stream",
     "text": [
      "Even: [ 2  4  6  8 10]\n",
      "Odd: [1 3 5 7 9]\n"
     ]
    }
   ],
   "source": [
    "num=np.array([1,2,3,4,5,6,7,8,9,10])\n",
    "even_num=num[num%2==0]\n",
    "print(\"Even:\",even_num)\n",
    "odd_num=num[num%2==1]\n",
    "print(\"Odd:\",odd_num)"
   ]
  },
  {
   "cell_type": "markdown",
   "metadata": {},
   "source": [
    "### Filter with mask"
   ]
  },
  {
   "cell_type": "code",
   "execution_count": 22,
   "metadata": {},
   "outputs": [
    {
     "name": "stdout",
     "output_type": "stream",
     "text": [
      "Mask: [ 6  7  8  9 10]\n"
     ]
    }
   ],
   "source": [
    "mask=num>5\n",
    "print(\"Mask:\",num[mask])"
   ]
  },
  {
   "cell_type": "markdown",
   "metadata": {},
   "source": [
    "### Fancy indexing vs np.where()"
   ]
  },
  {
   "cell_type": "code",
   "execution_count": 26,
   "metadata": {},
   "outputs": [
    {
     "name": "stdout",
     "output_type": "stream",
     "text": [
      "[ 1  4 10]\n",
      "Where: [ 5  6  7  8  9 10]\n"
     ]
    }
   ],
   "source": [
    "indices=[0,3,9]\n",
    "print(num[indices])\n",
    "\n",
    "where_result=np.where(num>4)\n",
    "print(\"Where:\",num[where_result])"
   ]
  },
  {
   "cell_type": "code",
   "execution_count": 32,
   "metadata": {},
   "outputs": [
    {
     "name": "stdout",
     "output_type": "stream",
     "text": [
      "Condition: [ 3  6  9 12 15 18 21 16 18 20]\n"
     ]
    }
   ],
   "source": [
    "conditional_array=np.where(num>7,num*2,num*3)\n",
    "print(\"Condition:\",conditional_array)"
   ]
  },
  {
   "cell_type": "code",
   "execution_count": null,
   "metadata": {},
   "outputs": [],
   "source": [
    "if num>5:\n",
    "    num*2\n",
    "else:\n",
    "    num*3"
   ]
  },
  {
   "cell_type": "markdown",
   "metadata": {},
   "source": [
    "### Adding and removing data"
   ]
  },
  {
   "cell_type": "code",
   "execution_count": 37,
   "metadata": {},
   "outputs": [
    {
     "name": "stdout",
     "output_type": "stream",
     "text": [
      "Combined  [1 2 3 4 5 6]\n"
     ]
    }
   ],
   "source": [
    "arr1=np.array([1,2,3,])\n",
    "arr2=np.array([4,5,6,])\n",
    "\n",
    "combined=np.concatenate([arr1,arr2])\n",
    "print(\"Combined \",combined)\n"
   ]
  },
  {
   "cell_type": "markdown",
   "metadata": {},
   "source": [
    "### Array compatibility\n"
   ]
  },
  {
   "cell_type": "code",
   "execution_count": 39,
   "metadata": {},
   "outputs": [
    {
     "name": "stdout",
     "output_type": "stream",
     "text": [
      "Compatibility shape: True\n"
     ]
    }
   ],
   "source": [
    "a=np.array([1,2,3,])\n",
    "b=np.array([4,5,])\n",
    "c=np.array([6,7,])\n",
    "\n",
    "print(\"Compatibility shape:\",c.shape==b.shape)"
   ]
  },
  {
   "cell_type": "code",
   "execution_count": 42,
   "metadata": {},
   "outputs": [
    {
     "name": "stdout",
     "output_type": "stream",
     "text": [
      "Orig: [[1 2 3]\n",
      " [4 5 6]]\n",
      "with new row: [[7 8 9]\n",
      " [1 2 3]\n",
      " [4 5 6]]\n",
      "New column: [[ 9  1  2  3]\n",
      " [10  4  5  6]]\n"
     ]
    }
   ],
   "source": [
    "original=np.array([[1,2,3],[4,5,6]])\n",
    "new_row=np.array([7,8,9])\n",
    "\n",
    "with_new_row=np.vstack([new_row,original])\n",
    "print(\"Orig:\",original)\n",
    "print(\"with new row:\",with_new_row)\n",
    "\n",
    "new_col=np.array([[9],[10,]])\n",
    "with_new_col=np.hstack([new_col,original])\n",
    "print(\"New column:\",with_new_col)"
   ]
  },
  {
   "cell_type": "code",
   "execution_count": 43,
   "metadata": {},
   "outputs": [
    {
     "name": "stdout",
     "output_type": "stream",
     "text": [
      "Deleted: [1 2 3 4 5 7 8 9]\n"
     ]
    }
   ],
   "source": [
    "arr=np.array([1,2,3,4,5,6,7,8,9,])\n",
    "deleted=np.delete(arr,5)\n",
    "print(\"Deleted:\",deleted)"
   ]
  }
 ],
 "metadata": {
  "kernelspec": {
   "display_name": ".venv",
   "language": "python",
   "name": "python3"
  },
  "language_info": {
   "codemirror_mode": {
    "name": "ipython",
    "version": 3
   },
   "file_extension": ".py",
   "mimetype": "text/x-python",
   "name": "python",
   "nbconvert_exporter": "python",
   "pygments_lexer": "ipython3",
   "version": "3.13.2"
  }
 },
 "nbformat": 4,
 "nbformat_minor": 2
}
